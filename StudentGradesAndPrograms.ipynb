{
  "nbformat": 4,
  "nbformat_minor": 0,
  "metadata": {
    "colab": {
      "provenance": [],
      "name": "StudentGradesAndPrograms.ipynb",
      "authorship_tag": "ABX9TyPUScImKRrurOO6kiJQNRVl",
      "include_colab_link": true
    },
    "kernelspec": {
      "name": "python3",
      "display_name": "Python 3"
    },
    "language_info": {
      "name": "python"
    }
  },
  "cells": [
    {
      "cell_type": "markdown",
      "metadata": {
        "id": "view-in-github",
        "colab_type": "text"
      },
      "source": [
        "<a href=\"https://colab.research.google.com/github/OmarAbdelaziz0/StudentGradesAndPrograms/blob/main/StudentGradesAndPrograms.ipynb\" target=\"_parent\"><img src=\"https://colab.research.google.com/assets/colab-badge.svg\" alt=\"Open In Colab\"/></a>"
      ]
    },
    {
      "cell_type": "code",
      "execution_count": 2,
      "metadata": {
        "colab": {
          "base_uri": "https://localhost:8080/"
        },
        "id": "8x3vxXNY2vWE",
        "outputId": "89dc3022-206e-4513-b588-08565070ca8a"
      },
      "outputs": [
        {
          "output_type": "stream",
          "name": "stdout",
          "text": [
            "Drive already mounted at /content/drive; to attempt to forcibly remount, call drive.mount(\"/content/drive\", force_remount=True).\n",
            "       schoolyear gradeLevel classPeriod classType  \\\n",
            "0       2024-2025         07           1       ELE   \n",
            "1       2024-2025         07           1       ELE   \n",
            "2       2024-2025         07           1       ELE   \n",
            "3       2024-2025         07           1       ELE   \n",
            "4       2024-2025         07           1       ELE   \n",
            "...           ...        ...         ...       ...   \n",
            "200989  2024-2025         06           1       ELE   \n",
            "200990  2024-2025         07           3       ENG   \n",
            "200991  2024-2025         05           7       SOC   \n",
            "200992  2024-2025         04           8       SCI   \n",
            "200993  2024-2025         07           2       SCI   \n",
            "\n",
            "                           schoolName  gradePercentage avid sped migrant ell  \\\n",
            "0                    West Junior High           2000.0    Y    N       N   N   \n",
            "1                    West Junior High           2000.0    N    N       N   N   \n",
            "2                    West Junior High           1950.0    N    N       N   N   \n",
            "3                    West Junior High           1850.0    Y    N       N   N   \n",
            "4                    West Junior High           1500.0    N    N       Y   Y   \n",
            "...                               ...              ...  ...  ...     ...  ..   \n",
            "200989               West Junior High              0.0    Y    N       N   Y   \n",
            "200990       Allfeather Middle School              0.0    Y    N       N   N   \n",
            "200991  Grand River Elementary School              0.0    Y    N       N   N   \n",
            "200992        Leafy Elementary School              0.0    N    N       Y   Y   \n",
            "200993               East Junior High              0.0    N    N       N   Y   \n",
            "\n",
            "       student_ID  \n",
            "0       0HRJHI993  \n",
            "1       CKN322II4  \n",
            "2       V523OZUH8  \n",
            "3       OJDYS3434  \n",
            "4       49RSM3UF6  \n",
            "...           ...  \n",
            "200989  Z6F0V9HT0  \n",
            "200990  299MYV6HZ  \n",
            "200991  2U5D84IZX  \n",
            "200992  RX0L0B18M  \n",
            "200993  4CJ11SZT2  \n",
            "\n",
            "[200994 rows x 11 columns]\n"
          ]
        },
        {
          "output_type": "stream",
          "name": "stderr",
          "text": [
            "<ipython-input-2-233e7188dd17>:12: DtypeWarning: Columns (2) have mixed types. Specify dtype option on import or set low_memory=False.\n",
            "  df = pd.read_csv(file_path)\n"
          ]
        }
      ],
      "source": [
        "# prompt: Import StudentGradesAndPrograms.csv file\n",
        "\n",
        "from google.colab import drive\n",
        "drive.mount('/content/drive')\n",
        "\n",
        "import pandas as pd\n",
        "\n",
        "# Assuming the file is in your Google Drive, replace with the correct path\n",
        "file_path = \"/content/drive/MyDrive/StudentGradesAndPrograms.csv\"\n",
        "\n",
        "try:\n",
        "  df = pd.read_csv(file_path)\n",
        "  print(df)\n",
        "except FileNotFoundError:\n",
        "  print(f\"Error: File not found at {file_path}\")\n",
        "except pd.errors.ParserError:\n",
        "  print(f\"Error: Could not parse the CSV file at {file_path}. Check the file format.\")\n",
        "except Exception as e:\n",
        "  print(f\"An unexpected error occurred: {e}\")\n",
        "  print(df.head())\n",
        "  print(df.info())\n",
        "  print(df.describe())\n"
      ]
    },
    {
      "cell_type": "code",
      "source": [
        "print(df.head())\n",
        "print(df.info()) #Dataset information\n",
        "print(df.describe())"
      ],
      "metadata": {
        "colab": {
          "base_uri": "https://localhost:8080/"
        },
        "id": "fbf-dSTz6aK5",
        "outputId": "d9e80dae-103b-426c-aaa2-f960d8d44a60"
      },
      "execution_count": 3,
      "outputs": [
        {
          "output_type": "stream",
          "name": "stdout",
          "text": [
            "  schoolyear gradeLevel classPeriod classType        schoolName  \\\n",
            "0  2024-2025         07           1       ELE  West Junior High   \n",
            "1  2024-2025         07           1       ELE  West Junior High   \n",
            "2  2024-2025         07           1       ELE  West Junior High   \n",
            "3  2024-2025         07           1       ELE  West Junior High   \n",
            "4  2024-2025         07           1       ELE  West Junior High   \n",
            "\n",
            "   gradePercentage avid sped migrant ell student_ID  \n",
            "0           2000.0    Y    N       N   N  0HRJHI993  \n",
            "1           2000.0    N    N       N   N  CKN322II4  \n",
            "2           1950.0    N    N       N   N  V523OZUH8  \n",
            "3           1850.0    Y    N       N   N  OJDYS3434  \n",
            "4           1500.0    N    N       Y   Y  49RSM3UF6  \n",
            "<class 'pandas.core.frame.DataFrame'>\n",
            "RangeIndex: 200994 entries, 0 to 200993\n",
            "Data columns (total 11 columns):\n",
            " #   Column           Non-Null Count   Dtype  \n",
            "---  ------           --------------   -----  \n",
            " 0   schoolyear       200994 non-null  object \n",
            " 1   gradeLevel       200994 non-null  object \n",
            " 2   classPeriod      200994 non-null  object \n",
            " 3   classType        200994 non-null  object \n",
            " 4   schoolName       200994 non-null  object \n",
            " 5   gradePercentage  200994 non-null  float64\n",
            " 6   avid             200994 non-null  object \n",
            " 7   sped             200994 non-null  object \n",
            " 8   migrant          200994 non-null  object \n",
            " 9   ell              200994 non-null  object \n",
            " 10  student_ID       200994 non-null  object \n",
            "dtypes: float64(1), object(10)\n",
            "memory usage: 16.9+ MB\n",
            "None\n",
            "       gradePercentage\n",
            "count    200994.000000\n",
            "mean         81.183078\n",
            "std          24.594533\n",
            "min           0.000000\n",
            "25%          72.800000\n",
            "50%          88.500000\n",
            "75%          97.900000\n",
            "max        2000.000000\n"
          ]
        }
      ]
    },
    {
      "cell_type": "code",
      "source": [
        "print(\"Missing values:\\n\", df.isnull().sum())\n"
      ],
      "metadata": {
        "colab": {
          "base_uri": "https://localhost:8080/"
        },
        "id": "Q3pD_4vz6_xo",
        "outputId": "f4553b15-6639-40cb-c398-733a8a468123"
      },
      "execution_count": 4,
      "outputs": [
        {
          "output_type": "stream",
          "name": "stdout",
          "text": [
            "Missing values:\n",
            " schoolyear         0\n",
            "gradeLevel         0\n",
            "classPeriod        0\n",
            "classType          0\n",
            "schoolName         0\n",
            "gradePercentage    0\n",
            "avid               0\n",
            "sped               0\n",
            "migrant            0\n",
            "ell                0\n",
            "student_ID         0\n",
            "dtype: int64\n"
          ]
        }
      ]
    },
    {
      "cell_type": "code",
      "source": [
        "df = df.dropna()\n",
        "df = df.drop_duplicates()\n",
        "df = pd.get_dummies(df, drop_first=True)  # Creates dummy variables for categorical columns (One Hot Encoding)\n",
        "\n",
        "\n"
      ],
      "metadata": {
        "id": "FG2RXlVW7Cnb"
      },
      "execution_count": 5,
      "outputs": []
    },
    {
      "cell_type": "code",
      "source": [
        "# prompt: normalize numerical data for performance\n",
        "\n",
        "from google.colab import drive\n",
        "import pandas as pd\n",
        "from sklearn.preprocessing import MinMaxScaler\n",
        "\n",
        "drive.mount('/content/drive')\n",
        "\n",
        "# Assuming the file is in your Google Drive, replace with the correct path\n",
        "file_path = \"/content/drive/MyDrive/StudentGradesAndPrograms.csv\"\n",
        "\n",
        "try:\n",
        "  df = pd.read_csv(file_path)\n",
        "except FileNotFoundError:\n",
        "  print(f\"Error: File not found at {file_path}\")\n",
        "  exit() #Exit the script if the file is not found\n",
        "except pd.errors.ParserError:\n",
        "  print(f\"Error: Could not parse the CSV file at {file_path}. Check the file format.\")\n",
        "  exit() #Exit the script if there's a parsing error\n",
        "except Exception as e:\n",
        "  print(f\"An unexpected error occurred: {e}\")\n",
        "  exit() #Exit the script if an unexpected error occurs\n",
        "\n",
        "\n",
        "# Identify numerical columns\n",
        "numerical_cols = df.select_dtypes(include=['number']).columns\n",
        "\n",
        "# Create a MinMaxScaler object\n",
        "scaler = MinMaxScaler()\n",
        "\n",
        "# Fit and transform the numerical columns\n",
        "df[numerical_cols] = scaler.fit_transform(df[numerical_cols])\n",
        "\n",
        "print(df.head())\n",
        "print(df.info()) #Dataset information\n",
        "print(df.describe())\n",
        "print(\"Missing values:\\n\", df.isnull().sum())\n",
        "\n",
        "df = df.dropna()\n",
        "df = df.drop_duplicates()\n",
        "df = pd.get_dummies(df, drop_first=True)  # Creates dummy variables for categorical columns (One Hot Encoding)"
      ],
      "metadata": {
        "colab": {
          "base_uri": "https://localhost:8080/"
        },
        "id": "X70kxZYm7V9R",
        "outputId": "8dca712b-9105-4f64-adb8-34ab270861de"
      },
      "execution_count": 6,
      "outputs": [
        {
          "output_type": "stream",
          "name": "stdout",
          "text": [
            "Drive already mounted at /content/drive; to attempt to forcibly remount, call drive.mount(\"/content/drive\", force_remount=True).\n"
          ]
        },
        {
          "output_type": "stream",
          "name": "stderr",
          "text": [
            "<ipython-input-6-01068c847b0c>:13: DtypeWarning: Columns (2) have mixed types. Specify dtype option on import or set low_memory=False.\n",
            "  df = pd.read_csv(file_path)\n"
          ]
        },
        {
          "output_type": "stream",
          "name": "stdout",
          "text": [
            "  schoolyear gradeLevel classPeriod classType        schoolName  \\\n",
            "0  2024-2025         07           1       ELE  West Junior High   \n",
            "1  2024-2025         07           1       ELE  West Junior High   \n",
            "2  2024-2025         07           1       ELE  West Junior High   \n",
            "3  2024-2025         07           1       ELE  West Junior High   \n",
            "4  2024-2025         07           1       ELE  West Junior High   \n",
            "\n",
            "   gradePercentage avid sped migrant ell student_ID  \n",
            "0            1.000    Y    N       N   N  0HRJHI993  \n",
            "1            1.000    N    N       N   N  CKN322II4  \n",
            "2            0.975    N    N       N   N  V523OZUH8  \n",
            "3            0.925    Y    N       N   N  OJDYS3434  \n",
            "4            0.750    N    N       Y   Y  49RSM3UF6  \n",
            "<class 'pandas.core.frame.DataFrame'>\n",
            "RangeIndex: 200994 entries, 0 to 200993\n",
            "Data columns (total 11 columns):\n",
            " #   Column           Non-Null Count   Dtype  \n",
            "---  ------           --------------   -----  \n",
            " 0   schoolyear       200994 non-null  object \n",
            " 1   gradeLevel       200994 non-null  object \n",
            " 2   classPeriod      200994 non-null  object \n",
            " 3   classType        200994 non-null  object \n",
            " 4   schoolName       200994 non-null  object \n",
            " 5   gradePercentage  200994 non-null  float64\n",
            " 6   avid             200994 non-null  object \n",
            " 7   sped             200994 non-null  object \n",
            " 8   migrant          200994 non-null  object \n",
            " 9   ell              200994 non-null  object \n",
            " 10  student_ID       200994 non-null  object \n",
            "dtypes: float64(1), object(10)\n",
            "memory usage: 16.9+ MB\n",
            "None\n",
            "       gradePercentage\n",
            "count    200994.000000\n",
            "mean          0.040592\n",
            "std           0.012297\n",
            "min           0.000000\n",
            "25%           0.036400\n",
            "50%           0.044250\n",
            "75%           0.048950\n",
            "max           1.000000\n",
            "Missing values:\n",
            " schoolyear         0\n",
            "gradeLevel         0\n",
            "classPeriod        0\n",
            "classType          0\n",
            "schoolName         0\n",
            "gradePercentage    0\n",
            "avid               0\n",
            "sped               0\n",
            "migrant            0\n",
            "ell                0\n",
            "student_ID         0\n",
            "dtype: int64\n"
          ]
        }
      ]
    },
    {
      "cell_type": "code",
      "source": [
        "# prompt: Split the dataset into features (x) and target (y)\n",
        "\n",
        "# Assuming 'df' is your DataFrame after preprocessing\n",
        "# Separate features (x) and target (y)\n",
        "x = df.drop('gradePercentage', axis=1)  # Replace 'Grade' with the actual name of your target column\n",
        "y = df['gradePercentage']"
      ],
      "metadata": {
        "id": "jGxcn0MH7iZy"
      },
      "execution_count": 7,
      "outputs": []
    },
    {
      "cell_type": "code",
      "source": [
        "# prompt: Split the dataset into training and testing sets\n",
        "\n",
        "from sklearn.model_selection import train_test_split\n",
        "\n",
        "# Split data into training and testing sets\n",
        "x_train, x_test, y_train, y_test = train_test_split(x, y, test_size=0.2, random_state=42) # 80% training and 20% test"
      ],
      "metadata": {
        "id": "QWVYq9PG8dmY"
      },
      "execution_count": 8,
      "outputs": []
    },
    {
      "cell_type": "code",
      "source": [
        "# prompt: Start with a simple linear regression model:\n",
        "\n",
        "from sklearn.linear_model import LinearRegression\n",
        "from sklearn.metrics import mean_squared_error, r2_score\n",
        "\n",
        "# Initialize the linear regression model\n",
        "model = LinearRegression()\n",
        "\n",
        "# Train the model\n",
        "model.fit(x_train, y_train)\n",
        "\n",
        "# Make predictions on the test set\n",
        "y_pred = model.predict(x_test)\n",
        "\n",
        "# Evaluate the model\n",
        "mse = mean_squared_error(y_test, y_pred)\n",
        "r2 = r2_score(y_test, y_pred)\n",
        "\n",
        "print(f\"Mean Squared Error: {mse}\")\n",
        "print(f\"R-squared: {r2}\")"
      ],
      "metadata": {
        "id": "YkrhpUCT8ofg"
      },
      "execution_count": null,
      "outputs": []
    },
    {
      "cell_type": "code",
      "source": [
        "# prompt: Hyperparameter Tuning\n",
        "# For better performance, switch to a more advanced model like RandomForestRegressor and perform hyperparameter tuning using GridSearchCV\n",
        "\n",
        "from google.colab import drive\n",
        "import pandas as pd\n",
        "from sklearn.preprocessing import MinMaxScaler\n",
        "from sklearn.model_selection import train_test_split, GridSearchCV\n",
        "from sklearn.ensemble import RandomForestRegressor\n",
        "from sklearn.metrics import mean_squared_error, r2_score\n",
        "\n",
        "drive.mount('/content/drive')\n",
        "\n",
        "# Assuming the file is in your Google Drive, replace with the correct path\n",
        "file_path = \"/content/drive/MyDrive/StudentGradesAndPrograms.csv\"\n",
        "\n",
        "try:\n",
        "  df = pd.read_csv(file_path)\n",
        "except FileNotFoundError:\n",
        "  print(f\"Error: File not found at {file_path}\")\n",
        "  exit()\n",
        "except pd.errors.ParserError:\n",
        "  print(f\"Error: Could not parse the CSV file at {file_path}. Check the file format.\")\n",
        "  exit()\n",
        "except Exception as e:\n",
        "  print(f\"An unexpected error occurred: {e}\")\n",
        "  exit()\n",
        "\n",
        "# ... (rest of your preprocessing code from the previous response) ...\n",
        "\n",
        "# Separate features (x) and target (y)\n",
        "x = df.drop('gradePercentage', axis=1)\n",
        "y = df['gradePercentage']\n",
        "\n",
        "# Split data into training and testing sets\n",
        "x_train, x_test, y_train, y_test = train_test_split(x, y, test_size=0.2, random_state=42)\n",
        "\n",
        "# Initialize the RandomForestRegressor model\n",
        "rf_model = RandomForestRegressor(random_state=42)\n",
        "\n",
        "# Define the parameter grid for hyperparameter tuning\n",
        "param_grid = {\n",
        "    'n_estimators': [50, 100, 200],\n",
        "    'max_depth': [None, 10, 20],\n",
        "    'min_samples_split': [2, 5, 10],\n",
        "    'min_samples_leaf': [1, 2, 4]\n",
        "}\n",
        "\n",
        "# Perform GridSearchCV for hyperparameter tuning\n",
        "grid_search = GridSearchCV(estimator=rf_model, param_grid=param_grid, cv=5, scoring='neg_mean_squared_error', n_jobs=-1)\n",
        "grid_search.fit(x_train, y_train)\n",
        "\n",
        "# Get the best model from GridSearchCV\n",
        "best_rf_model = grid_search.best_estimator_\n",
        "\n",
        "# Make predictions on the test set using the best model\n",
        "y_pred = best_rf_model.predict(x_test)\n",
        "\n",
        "# Evaluate the model\n",
        "mse = mean_squared_error(y_test, y_pred)\n",
        "r2 = r2_score(y_test, y_pred)\n",
        "\n",
        "print(f\"Best Hyperparameters: {grid_search.best_params_}\")\n",
        "print(f\"Mean Squared Error: {mse}\")\n",
        "print(f\"R-squared: {r2}\")"
      ],
      "metadata": {
        "id": "RR2TKLRJAO9L"
      },
      "execution_count": null,
      "outputs": []
    },
    {
      "cell_type": "code",
      "source": [
        "# prompt: Visualize Results\n",
        "# Compare predictions to actual values\n",
        "\n",
        "import matplotlib.pyplot as plt\n",
        "import seaborn as sns\n",
        "\n",
        "# Create a scatter plot of actual vs predicted values\n",
        "plt.figure(figsize=(8, 6))\n",
        "sns.scatterplot(x=y_test, y=y_pred)\n",
        "plt.xlabel(\"Actual Grade Percentage\")\n",
        "plt.ylabel(\"Predicted Grade Percentage\")\n",
        "plt.title(\"Actual vs Predicted Grade Percentage\")\n",
        "plt.plot([min(y_test), max(y_test)], [min(y_test), max(y_test)], color='red', linestyle='--') # Add a diagonal line for reference\n",
        "plt.show()\n",
        "\n",
        "\n",
        "# Create a residual plot\n",
        "residuals = y_test - y_pred\n",
        "plt.figure(figsize=(8, 6))\n",
        "sns.residplot(x=y_pred, y=residuals)\n",
        "plt.xlabel(\"Predicted Grade Percentage\")\n",
        "plt.ylabel(\"Residuals\")\n",
        "plt.title(\"Residual Plot\")\n",
        "plt.show()\n",
        "\n",
        "# Feature Importance (for RandomForestRegressor)\n",
        "if isinstance(best_rf_model, RandomForestRegressor): # Check model type\n",
        "    feature_importances = best_rf_model.feature_importances_\n",
        "    feature_names = x.columns\n",
        "    importance_df = pd.DataFrame({'Feature': feature_names, 'Importance': feature_importances})\n",
        "    importance_df = importance_df.sort_values(by='Importance', ascending=False)\n",
        "\n",
        "    plt.figure(figsize=(10, 6))\n",
        "    sns.barplot(x='Importance', y='Feature', data=importance_df)\n",
        "    plt.title('Feature Importance')\n",
        "    plt.show()"
      ],
      "metadata": {
        "id": "RbJ6czxiBdme"
      },
      "execution_count": null,
      "outputs": []
    }
  ]
}