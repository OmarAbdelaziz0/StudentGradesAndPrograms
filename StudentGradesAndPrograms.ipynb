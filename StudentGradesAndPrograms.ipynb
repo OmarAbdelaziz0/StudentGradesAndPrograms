{
  "nbformat": 4,
  "nbformat_minor": 0,
  "metadata": {
    "colab": {
      "provenance": [],
      "name": "StudentGradesAndPrograms.ipynb",
      "authorship_tag": "ABX9TyOpvxkxbtk3rP9cIdCaKPzI",
      "include_colab_link": true
    },
    "kernelspec": {
      "name": "python3",
      "display_name": "Python 3"
    },
    "language_info": {
      "name": "python"
    }
  },
  "cells": [
    {
      "cell_type": "markdown",
      "metadata": {
        "id": "view-in-github",
        "colab_type": "text"
      },
      "source": [
        "<a href=\"https://colab.research.google.com/github/OmarAbdelaziz0/StudentGradesAndPrograms/blob/main/StudentGradesAndPrograms.ipynb\" target=\"_parent\"><img src=\"https://colab.research.google.com/assets/colab-badge.svg\" alt=\"Open In Colab\"/></a>"
      ]
    },
    {
      "cell_type": "code",
      "execution_count": null,
      "metadata": {
        "colab": {
          "base_uri": "https://localhost:8080/"
        },
        "id": "8x3vxXNY2vWE",
        "outputId": "6e30d57e-8220-4e70-d46d-8044890ae10d"
      },
      "outputs": [
        {
          "output_type": "stream",
          "name": "stdout",
          "text": [
            "Drive already mounted at /content/drive; to attempt to forcibly remount, call drive.mount(\"/content/drive\", force_remount=True).\n",
            "       schoolyear gradeLevel classPeriod classType  \\\n",
            "0       2024-2025         07           1       ELE   \n",
            "1       2024-2025         07           1       ELE   \n",
            "2       2024-2025         07           1       ELE   \n",
            "3       2024-2025         07           1       ELE   \n",
            "4       2024-2025         07           1       ELE   \n",
            "...           ...        ...         ...       ...   \n",
            "200989  2024-2025         06           1       ELE   \n",
            "200990  2024-2025         07           3       ENG   \n",
            "200991  2024-2025         05           7       SOC   \n",
            "200992  2024-2025         04           8       SCI   \n",
            "200993  2024-2025         07           2       SCI   \n",
            "\n",
            "                           schoolName  gradePercentage avid sped migrant ell  \\\n",
            "0                    West Junior High           2000.0    Y    N       N   N   \n",
            "1                    West Junior High           2000.0    N    N       N   N   \n",
            "2                    West Junior High           1950.0    N    N       N   N   \n",
            "3                    West Junior High           1850.0    Y    N       N   N   \n",
            "4                    West Junior High           1500.0    N    N       Y   Y   \n",
            "...                               ...              ...  ...  ...     ...  ..   \n",
            "200989               West Junior High              0.0    Y    N       N   Y   \n",
            "200990       Allfeather Middle School              0.0    Y    N       N   N   \n",
            "200991  Grand River Elementary School              0.0    Y    N       N   N   \n",
            "200992        Leafy Elementary School              0.0    N    N       Y   Y   \n",
            "200993               East Junior High              0.0    N    N       N   Y   \n",
            "\n",
            "       student_ID  \n",
            "0       0HRJHI993  \n",
            "1       CKN322II4  \n",
            "2       V523OZUH8  \n",
            "3       OJDYS3434  \n",
            "4       49RSM3UF6  \n",
            "...           ...  \n",
            "200989  Z6F0V9HT0  \n",
            "200990  299MYV6HZ  \n",
            "200991  2U5D84IZX  \n",
            "200992  RX0L0B18M  \n",
            "200993  4CJ11SZT2  \n",
            "\n",
            "[200994 rows x 11 columns]\n"
          ]
        },
        {
          "output_type": "stream",
          "name": "stderr",
          "text": [
            "<ipython-input-2-516522e31da8>:12: DtypeWarning: Columns (2) have mixed types. Specify dtype option on import or set low_memory=False.\n",
            "  df = pd.read_csv(file_path)\n"
          ]
        }
      ],
      "source": [
        "# prompt: Import StudentGradesAndPrograms.csv file\n",
        "\n",
        "from google.colab import drive\n",
        "drive.mount('/content/drive')\n",
        "\n",
        "import pandas as pd\n",
        "\n",
        "# Assuming the file is in your Google Drive, replace with the correct path\n",
        "file_path = \"/content/drive/MyDrive/StudentGradesAndPrograms.csv\"\n",
        "\n",
        "try:\n",
        "  df = pd.read_csv(file_path)\n",
        "  print(df)\n",
        "except FileNotFoundError:\n",
        "  print(f\"Error: File not found at {file_path}\")\n",
        "except pd.errors.ParserError:\n",
        "  print(f\"Error: Could not parse the CSV file at {file_path}. Check the file format.\")\n",
        "except Exception as e:\n",
        "  print(f\"An unexpected error occurred: {e}\")\n",
        "  print(df.head())\n",
        "  print(df.info())\n",
        "  print(df.describe())\n"
      ]
    },
    {
      "cell_type": "code",
      "source": [
        "print(df.head())\n",
        "print(df.info()) #Dataset information\n",
        "print(df.describe())"
      ],
      "metadata": {
        "colab": {
          "base_uri": "https://localhost:8080/"
        },
        "id": "fbf-dSTz6aK5",
        "outputId": "4121474d-9f0b-4909-f74d-2a483f5f8038"
      },
      "execution_count": null,
      "outputs": [
        {
          "output_type": "stream",
          "name": "stdout",
          "text": [
            "  schoolyear gradeLevel classPeriod classType        schoolName  \\\n",
            "0  2024-2025         07           1       ELE  West Junior High   \n",
            "1  2024-2025         07           1       ELE  West Junior High   \n",
            "2  2024-2025         07           1       ELE  West Junior High   \n",
            "3  2024-2025         07           1       ELE  West Junior High   \n",
            "4  2024-2025         07           1       ELE  West Junior High   \n",
            "\n",
            "   gradePercentage avid sped migrant ell student_ID  \n",
            "0           2000.0    Y    N       N   N  0HRJHI993  \n",
            "1           2000.0    N    N       N   N  CKN322II4  \n",
            "2           1950.0    N    N       N   N  V523OZUH8  \n",
            "3           1850.0    Y    N       N   N  OJDYS3434  \n",
            "4           1500.0    N    N       Y   Y  49RSM3UF6  \n",
            "<class 'pandas.core.frame.DataFrame'>\n",
            "RangeIndex: 200994 entries, 0 to 200993\n",
            "Data columns (total 11 columns):\n",
            " #   Column           Non-Null Count   Dtype  \n",
            "---  ------           --------------   -----  \n",
            " 0   schoolyear       200994 non-null  object \n",
            " 1   gradeLevel       200994 non-null  object \n",
            " 2   classPeriod      200994 non-null  object \n",
            " 3   classType        200994 non-null  object \n",
            " 4   schoolName       200994 non-null  object \n",
            " 5   gradePercentage  200994 non-null  float64\n",
            " 6   avid             200994 non-null  object \n",
            " 7   sped             200994 non-null  object \n",
            " 8   migrant          200994 non-null  object \n",
            " 9   ell              200994 non-null  object \n",
            " 10  student_ID       200994 non-null  object \n",
            "dtypes: float64(1), object(10)\n",
            "memory usage: 16.9+ MB\n",
            "None\n",
            "       gradePercentage\n",
            "count    200994.000000\n",
            "mean         81.183078\n",
            "std          24.594533\n",
            "min           0.000000\n",
            "25%          72.800000\n",
            "50%          88.500000\n",
            "75%          97.900000\n",
            "max        2000.000000\n"
          ]
        }
      ]
    },
    {
      "cell_type": "code",
      "source": [
        "print(\"Missing values:\\n\", df.isnull().sum())\n"
      ],
      "metadata": {
        "colab": {
          "base_uri": "https://localhost:8080/"
        },
        "id": "Q3pD_4vz6_xo",
        "outputId": "08a81454-f220-404c-cbf5-aac4cc7f4ed8"
      },
      "execution_count": null,
      "outputs": [
        {
          "output_type": "stream",
          "name": "stdout",
          "text": [
            "Missing values:\n",
            " schoolyear         0\n",
            "gradeLevel         0\n",
            "classPeriod        0\n",
            "classType          0\n",
            "schoolName         0\n",
            "gradePercentage    0\n",
            "avid               0\n",
            "sped               0\n",
            "migrant            0\n",
            "ell                0\n",
            "student_ID         0\n",
            "dtype: int64\n"
          ]
        }
      ]
    },
    {
      "cell_type": "code",
      "source": [
        "df = df.dropna()\n",
        "df = df.drop_duplicates()\n",
        "df = pd.get_dummies(df, drop_first=True)  # Creates dummy variables for categorical columns (One Hot Encoding)\n",
        "\n",
        "\n"
      ],
      "metadata": {
        "id": "FG2RXlVW7Cnb"
      },
      "execution_count": null,
      "outputs": []
    },
    {
      "cell_type": "code",
      "source": [
        "# prompt: normalize numerical data for performance\n",
        "\n",
        "from google.colab import drive\n",
        "import pandas as pd\n",
        "from sklearn.preprocessing import MinMaxScaler\n",
        "\n",
        "drive.mount('/content/drive')\n",
        "\n",
        "# Assuming the file is in your Google Drive, replace with the correct path\n",
        "file_path = \"/content/drive/MyDrive/StudentGradesAndPrograms.csv\"\n",
        "\n",
        "try:\n",
        "  df = pd.read_csv(file_path)\n",
        "except FileNotFoundError:\n",
        "  print(f\"Error: File not found at {file_path}\")\n",
        "  exit() #Exit the script if the file is not found\n",
        "except pd.errors.ParserError:\n",
        "  print(f\"Error: Could not parse the CSV file at {file_path}. Check the file format.\")\n",
        "  exit() #Exit the script if there's a parsing error\n",
        "except Exception as e:\n",
        "  print(f\"An unexpected error occurred: {e}\")\n",
        "  exit() #Exit the script if an unexpected error occurs\n",
        "\n",
        "\n",
        "# Identify numerical columns\n",
        "numerical_cols = df.select_dtypes(include=['number']).columns\n",
        "\n",
        "# Create a MinMaxScaler object\n",
        "scaler = MinMaxScaler()\n",
        "\n",
        "# Fit and transform the numerical columns\n",
        "df[numerical_cols] = scaler.fit_transform(df[numerical_cols])\n",
        "\n",
        "print(df.head())\n",
        "print(df.info()) #Dataset information\n",
        "print(df.describe())\n",
        "print(\"Missing values:\\n\", df.isnull().sum())\n",
        "\n",
        "df = df.dropna()\n",
        "df = df.drop_duplicates()\n",
        "df = pd.get_dummies(df, drop_first=True)  # Creates dummy variables for categorical columns (One Hot Encoding)"
      ],
      "metadata": {
        "colab": {
          "base_uri": "https://localhost:8080/"
        },
        "id": "X70kxZYm7V9R",
        "outputId": "2c2bcfd9-7d46-4bbb-a06a-4ec78f8ae857"
      },
      "execution_count": null,
      "outputs": [
        {
          "output_type": "stream",
          "name": "stdout",
          "text": [
            "Drive already mounted at /content/drive; to attempt to forcibly remount, call drive.mount(\"/content/drive\", force_remount=True).\n"
          ]
        },
        {
          "output_type": "stream",
          "name": "stderr",
          "text": [
            "<ipython-input-6-b8b0753a39a1>:13: DtypeWarning: Columns (2) have mixed types. Specify dtype option on import or set low_memory=False.\n",
            "  df = pd.read_csv(file_path)\n"
          ]
        },
        {
          "output_type": "stream",
          "name": "stdout",
          "text": [
            "  schoolyear gradeLevel classPeriod classType        schoolName  \\\n",
            "0  2024-2025         07           1       ELE  West Junior High   \n",
            "1  2024-2025         07           1       ELE  West Junior High   \n",
            "2  2024-2025         07           1       ELE  West Junior High   \n",
            "3  2024-2025         07           1       ELE  West Junior High   \n",
            "4  2024-2025         07           1       ELE  West Junior High   \n",
            "\n",
            "   gradePercentage avid sped migrant ell student_ID  \n",
            "0            1.000    Y    N       N   N  0HRJHI993  \n",
            "1            1.000    N    N       N   N  CKN322II4  \n",
            "2            0.975    N    N       N   N  V523OZUH8  \n",
            "3            0.925    Y    N       N   N  OJDYS3434  \n",
            "4            0.750    N    N       Y   Y  49RSM3UF6  \n",
            "<class 'pandas.core.frame.DataFrame'>\n",
            "RangeIndex: 200994 entries, 0 to 200993\n",
            "Data columns (total 11 columns):\n",
            " #   Column           Non-Null Count   Dtype  \n",
            "---  ------           --------------   -----  \n",
            " 0   schoolyear       200994 non-null  object \n",
            " 1   gradeLevel       200994 non-null  object \n",
            " 2   classPeriod      200994 non-null  object \n",
            " 3   classType        200994 non-null  object \n",
            " 4   schoolName       200994 non-null  object \n",
            " 5   gradePercentage  200994 non-null  float64\n",
            " 6   avid             200994 non-null  object \n",
            " 7   sped             200994 non-null  object \n",
            " 8   migrant          200994 non-null  object \n",
            " 9   ell              200994 non-null  object \n",
            " 10  student_ID       200994 non-null  object \n",
            "dtypes: float64(1), object(10)\n",
            "memory usage: 16.9+ MB\n",
            "None\n",
            "       gradePercentage\n",
            "count    200994.000000\n",
            "mean          0.040592\n",
            "std           0.012297\n",
            "min           0.000000\n",
            "25%           0.036400\n",
            "50%           0.044250\n",
            "75%           0.048950\n",
            "max           1.000000\n",
            "Missing values:\n",
            " schoolyear         0\n",
            "gradeLevel         0\n",
            "classPeriod        0\n",
            "classType          0\n",
            "schoolName         0\n",
            "gradePercentage    0\n",
            "avid               0\n",
            "sped               0\n",
            "migrant            0\n",
            "ell                0\n",
            "student_ID         0\n",
            "dtype: int64\n"
          ]
        }
      ]
    },
    {
      "cell_type": "code",
      "source": [
        "# prompt: Split the dataset into features (x) and target (y)\n",
        "\n",
        "# Assuming 'df' is your DataFrame after preprocessing\n",
        "# Separate features (x) and target (y)\n",
        "x = df.drop('gradePercentage', axis=1)  # Replace 'Grade' with the actual name of your target column\n",
        "y = df['gradePercentage']"
      ],
      "metadata": {
        "id": "jGxcn0MH7iZy"
      },
      "execution_count": null,
      "outputs": []
    },
    {
      "cell_type": "code",
      "source": [
        "# prompt: Split the dataset into training and testing sets\n",
        "\n",
        "from sklearn.model_selection import train_test_split\n",
        "\n",
        "# Split data into training and testing sets\n",
        "x_train, x_test, y_train, y_test = train_test_split(x, y, test_size=0.2, random_state=42) # 80% training and 20% test"
      ],
      "metadata": {
        "id": "QWVYq9PG8dmY"
      },
      "execution_count": null,
      "outputs": []
    },
    {
      "cell_type": "code",
      "source": [
        "# prompt: Start with a simple linear regression model:\n",
        "\n",
        "from sklearn.linear_model import LinearRegression\n",
        "from sklearn.metrics import mean_squared_error, r2_score\n",
        "\n",
        "# Initialize the linear regression model\n",
        "model = LinearRegression()\n",
        "\n",
        "# Train the model\n",
        "model.fit(x_train, y_train)\n",
        "\n",
        "# Make predictions on the test set\n",
        "y_pred = model.predict(x_test)\n",
        "\n",
        "# Evaluate the model\n",
        "mse = mean_squared_error(y_test, y_pred)\n",
        "r2 = r2_score(y_test, y_pred)\n",
        "\n",
        "print(f\"Mean Squared Error: {mse}\")\n",
        "print(f\"R-squared: {r2}\")"
      ],
      "metadata": {
        "id": "YkrhpUCT8ofg"
      },
      "execution_count": null,
      "outputs": []
    }
  ]
}